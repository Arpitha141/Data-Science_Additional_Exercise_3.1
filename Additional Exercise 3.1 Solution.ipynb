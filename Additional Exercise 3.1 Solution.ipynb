{
 "cells": [
  {
   "cell_type": "markdown",
   "metadata": {},
   "source": [
    "## 1) Write a python program which creates a class named Cone and write a function calculate_area which calculates the area of the Cone.\n",
    "\n",
    "Sample Execution:\n",
    "\n",
    "Please enter the radius of the cone: 4\n",
    "\n",
    "Please enter the height of the cone: 5\n",
    "\n",
    "Area of a cone with radius: 4.00 and height: 5.00 is: 83.73\n"
   ]
  },
  {
   "cell_type": "code",
   "execution_count": 1,
   "metadata": {},
   "outputs": [
    {
     "name": "stdout",
     "output_type": "stream",
     "text": [
      "Please enter the radius of the cone :4\n",
      "Please enter the height of the cone :5\n",
      "Area of a cone with radius : 4 and height : 5 is 83.73 \n",
      "\n",
      "\n",
      "Total Surface Area : 130.72951471480383\n"
     ]
    }
   ],
   "source": [
    "import math\n",
    "class cone:\n",
    "    def __init__(self,radius,height):\n",
    "        self.radius = radius\n",
    "        self.height = height\n",
    "        \n",
    "    def calculate_area(self):\n",
    "        l = math.sqrt(self.height**2+self.radius**2)\n",
    "        volume = round(1/3*round(math.pi,2)*self.radius**2*self.height,2)\n",
    "        area = math.pi*self.radius*(self.radius+l)\n",
    "        print('Area of a cone with radius : {} and height : {} is {} '.format(self.radius,self.height, str(volume)))\n",
    "        print('\\n')\n",
    "        print('Total Surface Area : ' +str(area))\n",
    "        \n",
    "\n",
    "\n",
    "while True: \n",
    "    radius = input('Please enter the radius of the cone :')\n",
    "    height = input('Please enter the height of the cone :')\n",
    "    if radius.isdigit() and height.isdigit():\n",
    "        cone_obj = cone(int(radius),int(height))\n",
    "        cone_obj.calculate_area()\n",
    "        break\n",
    "    else:\n",
    "        print('Please enter the digits to calculate the Area of the code.')\n",
    "        "
   ]
  },
  {
   "cell_type": "code",
   "execution_count": null,
   "metadata": {},
   "outputs": [],
   "source": []
  },
  {
   "cell_type": "markdown",
   "metadata": {},
   "source": [
    "## 2) Define a class MathOperation which implements pow(x,n) without using python's in-built pow() method\n",
    "\n",
    "Sample Execution:\n",
    "\n",
    "M = MathOperation()\n",
    "\n",
    "print(M.pow(2, 3))\n",
    "\n",
    "8\n",
    "\n",
    "print(M.pow(5, -3))\n",
    "\n",
    "0.008\n",
    "\n",
    "print(M.pow(-2, 5))\n",
    "\n",
    "-32\n",
    "\n",
    "print(M.pow(-5, -3))\n",
    "\n",
    "-0.008\n",
    "\n",
    "print(M.pow(20000,0))\n",
    "\n",
    "1"
   ]
  },
  {
   "cell_type": "code",
   "execution_count": 2,
   "metadata": {},
   "outputs": [
    {
     "name": "stdout",
     "output_type": "stream",
     "text": [
      "M.pow(2,3):: 8\n",
      "\n",
      "\n",
      "M.pow(-2,5):: -32\n",
      "\n",
      "\n",
      "M.pow(-5,-3):: -0.008\n",
      "\n",
      "\n",
      "M.pow(20000,0):: 1\n"
     ]
    }
   ],
   "source": [
    "class MathOperation:\n",
    " \n",
    "    def pow(self,num,num1):\n",
    "        self.num = num\n",
    "        self.num1 = num1\n",
    "        return self.num**self.num1\n",
    "    \n",
    "\n",
    "M = MathOperation()\n",
    "print(\"M.pow(2,3)::\",str(M.pow(2,3)))\n",
    "print('\\n')\n",
    "print(\"M.pow(-2,5)::\",str(M.pow(-2,5)))\n",
    "print('\\n')\n",
    "print(\"M.pow(-5,-3)::\",str(M.pow(-5,-3)))\n",
    "print('\\n')\n",
    "print(\"M.pow(20000,0)::\",str(M.pow(20000,0)))"
   ]
  },
  {
   "cell_type": "markdown",
   "metadata": {},
   "source": [
    "## 3) Write a python program that creates a class Base and Derived. Use inbuilt function issubclass and isinstance which gives boolean results.(True or False)\n",
    "\n",
    "Check:\n",
    "\n",
    "Derived class is a subclass of Base class which will return true\n",
    "\n",
    "Base class is a subclass of Derived class which will return false\n",
    "\n",
    "Base class is an instance of Derived class which will return false\n",
    "\n",
    "Derived class is an instance of Base class which will return true\n"
   ]
  },
  {
   "cell_type": "code",
   "execution_count": 6,
   "metadata": {},
   "outputs": [
    {
     "name": "stdout",
     "output_type": "stream",
     "text": [
      "Base Class\n",
      "Derived\n",
      "Derived class is a subclass of Base class :: True\n",
      "Base class is a subclass of Derived class :: False\n",
      "Base class is an instance of Derived class:: False\n",
      "Derived class is an instance of Base class:: True\n"
     ]
    }
   ],
   "source": [
    "class Base:\n",
    "    print('Base Class')\n",
    "    \n",
    "class Derived(Base):\n",
    "    print('Derived')\n",
    "\n",
    "\n",
    "base = Base()\n",
    "derived = Derived()\n",
    "    \n",
    "print('Derived class is a subclass of Base class :: '+ str(issubclass(Derived,Base)))\n",
    "print('Base class is a subclass of Derived class :: ' +str(issubclass(Base,Derived)))\n",
    "print('Base class is an instance of Derived class:: '+str(isinstance(base,Derived)))\n",
    "print('Derived class is an instance of Base class:: '+str(isinstance(derived,Base)))"
   ]
  },
  {
   "cell_type": "markdown",
   "metadata": {},
   "source": [
    "## 4) Write a python program that creates base class Person which has two methods\n",
    "\n",
    "def __init__(self, first, last)\n",
    "\n",
    "def __str__(self)\n",
    "\n",
    "Also create a derived class named Employee which uses the base class\n",
    "method “def __str__(self)” using “super()” to concatenate first name wit\n",
    "h last name"
   ]
  },
  {
   "cell_type": "code",
   "execution_count": 7,
   "metadata": {},
   "outputs": [
    {
     "name": "stdout",
     "output_type": "stream",
     "text": [
      "Arpitha Ramachandra  And has ID: 1\n"
     ]
    }
   ],
   "source": [
    "#using the key word Super, contenating the First name and last name in Base calss and attching the ID to the derived class function\n",
    "class Person:\n",
    "    def __init__(self, first, last):\n",
    "        self.__first = first\n",
    "        self.__last = last\n",
    "\n",
    "    def __str__(self):\n",
    "          return \"%s %s \"  % (self.__first, self.__last)\n",
    "\n",
    "class Employee(Person): \n",
    "    def __init__(self, employee_id, *args, **kwargs):\n",
    "        super(Employee, self).__init__(*args, **kwargs)\n",
    "        self._employee_id = employee_id\n",
    "        \n",
    "    def __str__(self):\n",
    "            return super(Employee, self).__str__() + \" And has ID: %d\" % self._employee_id\n",
    "\n",
    "charlie = Employee(1, 'Arpitha', 'Ramachandra')\n",
    "print(charlie)"
   ]
  },
  {
   "cell_type": "code",
   "execution_count": 8,
   "metadata": {},
   "outputs": [
    {
     "name": "stdout",
     "output_type": "stream",
     "text": [
      "Marge Simpson\n",
      "Homer Simpson, 1007\n"
     ]
    }
   ],
   "source": [
    "class Person:\n",
    "\n",
    "    def __init__(self, first, last):\n",
    "        self.firstname = first\n",
    "        self.lastname = last\n",
    "\n",
    "    def str(self):\n",
    "        return self.firstname + \" \" + self.lastname\n",
    "\n",
    "class Employee(Person):\n",
    "\n",
    "    def __init__(self, first, last, staffnum):\n",
    "        Person.__init__(self,first, last)\n",
    "        self.staffnumber = staffnum\n",
    "\n",
    "    def GetEmployee(self):\n",
    "        return self.str() + \", \" +  self.staffnumber\n",
    "\n",
    "x = Person(\"Marge\", \"Simpson\")\n",
    "y = Employee(\"Homer\", \"Simpson\", \"1007\")\n",
    "\n",
    "print(x.str())\n",
    "print(y.GetEmployee())"
   ]
  },
  {
   "cell_type": "code",
   "execution_count": null,
   "metadata": {},
   "outputs": [],
   "source": []
  }
 ],
 "metadata": {
  "kernelspec": {
   "display_name": "Python 3",
   "language": "python",
   "name": "python3"
  },
  "language_info": {
   "codemirror_mode": {
    "name": "ipython",
    "version": 3
   },
   "file_extension": ".py",
   "mimetype": "text/x-python",
   "name": "python",
   "nbconvert_exporter": "python",
   "pygments_lexer": "ipython3",
   "version": "3.7.0"
  }
 },
 "nbformat": 4,
 "nbformat_minor": 2
}
